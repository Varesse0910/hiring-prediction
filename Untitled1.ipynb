{
 "cells": [
  {
   "cell_type": "code",
   "execution_count": 1,
   "id": "1e0f3637",
   "metadata": {},
   "outputs": [],
   "source": [
    "import pandas as pd\n",
    "import numpy as np\n",
    "from sklearn import preprocessing\n",
    "import matplotlib.pyplot as plt \n",
    "plt.rc(\"font\", size=14)\n",
    "from sklearn.linear_model import LogisticRegression\n",
    "from sklearn.model_selection import train_test_split\n",
    "import seaborn as sns\n",
    "sns.set(style=\"white\")\n",
    "sns.set(style=\"whitegrid\", color_codes=True)"
   ]
  },
  {
   "cell_type": "code",
   "execution_count": 2,
   "id": "bae12aa7",
   "metadata": {},
   "outputs": [],
   "source": [
    "train = pd.read_csv('train.csv')\n",
    "test = pd.read_csv('test.csv')"
   ]
  },
  {
   "cell_type": "code",
   "execution_count": 3,
   "id": "0ad44105",
   "metadata": {},
   "outputs": [
    {
     "data": {
      "text/html": [
       "<div>\n",
       "<style scoped>\n",
       "    .dataframe tbody tr th:only-of-type {\n",
       "        vertical-align: middle;\n",
       "    }\n",
       "\n",
       "    .dataframe tbody tr th {\n",
       "        vertical-align: top;\n",
       "    }\n",
       "\n",
       "    .dataframe thead th {\n",
       "        text-align: right;\n",
       "    }\n",
       "</style>\n",
       "<table border=\"1\" class=\"dataframe\">\n",
       "  <thead>\n",
       "    <tr style=\"text-align: right;\">\n",
       "      <th></th>\n",
       "      <th>id</th>\n",
       "      <th>date</th>\n",
       "      <th>cheveux</th>\n",
       "      <th>age</th>\n",
       "      <th>exp</th>\n",
       "      <th>salaire</th>\n",
       "      <th>sexe</th>\n",
       "      <th>diplome</th>\n",
       "      <th>specialite</th>\n",
       "      <th>note</th>\n",
       "      <th>dispo</th>\n",
       "      <th>embauche</th>\n",
       "    </tr>\n",
       "  </thead>\n",
       "  <tbody>\n",
       "    <tr>\n",
       "      <th>0</th>\n",
       "      <td>0</td>\n",
       "      <td>2012-12-12</td>\n",
       "      <td>blond</td>\n",
       "      <td>23.0</td>\n",
       "      <td>9.0</td>\n",
       "      <td>43596.0</td>\n",
       "      <td>M</td>\n",
       "      <td>licence</td>\n",
       "      <td>forage</td>\n",
       "      <td>96.56</td>\n",
       "      <td>oui</td>\n",
       "      <td>1</td>\n",
       "    </tr>\n",
       "    <tr>\n",
       "      <th>1</th>\n",
       "      <td>1</td>\n",
       "      <td>2011-03-16</td>\n",
       "      <td>blond</td>\n",
       "      <td>35.0</td>\n",
       "      <td>13.0</td>\n",
       "      <td>29992.0</td>\n",
       "      <td>M</td>\n",
       "      <td>master</td>\n",
       "      <td>forage</td>\n",
       "      <td>84.68</td>\n",
       "      <td>non</td>\n",
       "      <td>1</td>\n",
       "    </tr>\n",
       "    <tr>\n",
       "      <th>2</th>\n",
       "      <td>2</td>\n",
       "      <td>2014-10-05</td>\n",
       "      <td>chatain</td>\n",
       "      <td>55.0</td>\n",
       "      <td>9.0</td>\n",
       "      <td>33332.0</td>\n",
       "      <td>F</td>\n",
       "      <td>master</td>\n",
       "      <td>detective</td>\n",
       "      <td>60.84</td>\n",
       "      <td>non</td>\n",
       "      <td>1</td>\n",
       "    </tr>\n",
       "    <tr>\n",
       "      <th>3</th>\n",
       "      <td>3</td>\n",
       "      <td>2014-07-23</td>\n",
       "      <td>brun</td>\n",
       "      <td>33.0</td>\n",
       "      <td>10.0</td>\n",
       "      <td>36944.0</td>\n",
       "      <td>M</td>\n",
       "      <td>master</td>\n",
       "      <td>geologie</td>\n",
       "      <td>80.34</td>\n",
       "      <td>oui</td>\n",
       "      <td>1</td>\n",
       "    </tr>\n",
       "    <tr>\n",
       "      <th>4</th>\n",
       "      <td>4</td>\n",
       "      <td>2010-02-17</td>\n",
       "      <td>blond</td>\n",
       "      <td>28.0</td>\n",
       "      <td>13.0</td>\n",
       "      <td>39489.0</td>\n",
       "      <td>M</td>\n",
       "      <td>master</td>\n",
       "      <td>geologie</td>\n",
       "      <td>91.94</td>\n",
       "      <td>oui</td>\n",
       "      <td>1</td>\n",
       "    </tr>\n",
       "  </tbody>\n",
       "</table>\n",
       "</div>"
      ],
      "text/plain": [
       "   id        date  cheveux   age   exp  salaire sexe  diplome specialite  \\\n",
       "0   0  2012-12-12    blond  23.0   9.0  43596.0    M  licence     forage   \n",
       "1   1  2011-03-16    blond  35.0  13.0  29992.0    M   master     forage   \n",
       "2   2  2014-10-05  chatain  55.0   9.0  33332.0    F   master  detective   \n",
       "3   3  2014-07-23     brun  33.0  10.0  36944.0    M   master   geologie   \n",
       "4   4  2010-02-17    blond  28.0  13.0  39489.0    M   master   geologie   \n",
       "\n",
       "    note dispo  embauche  \n",
       "0  96.56   oui         1  \n",
       "1  84.68   non         1  \n",
       "2  60.84   non         1  \n",
       "3  80.34   oui         1  \n",
       "4  91.94   oui         1  "
      ]
     },
     "execution_count": 3,
     "metadata": {},
     "output_type": "execute_result"
    }
   ],
   "source": [
    "train.head()"
   ]
  },
  {
   "cell_type": "code",
   "execution_count": 4,
   "id": "7ad6a8aa",
   "metadata": {},
   "outputs": [
    {
     "data": {
      "text/plain": [
       "array(['licence', 'master', 'bac', 'doctorat', nan], dtype=object)"
      ]
     },
     "execution_count": 4,
     "metadata": {},
     "output_type": "execute_result"
    }
   ],
   "source": [
    "train['diplome'].unique()"
   ]
  },
  {
   "cell_type": "code",
   "execution_count": 5,
   "id": "bc5db65f",
   "metadata": {},
   "outputs": [
    {
     "data": {
      "text/plain": [
       "array(['forage', 'detective', 'geologie', 'archeologie', nan],\n",
       "      dtype=object)"
      ]
     },
     "execution_count": 5,
     "metadata": {},
     "output_type": "execute_result"
    }
   ],
   "source": [
    "train['specialite'].unique()"
   ]
  },
  {
   "cell_type": "code",
   "execution_count": 6,
   "id": "bd97e92a",
   "metadata": {},
   "outputs": [
    {
     "data": {
      "text/plain": [
       "array(['blond', 'chatain', 'brun', 'roux', nan], dtype=object)"
      ]
     },
     "execution_count": 6,
     "metadata": {},
     "output_type": "execute_result"
    }
   ],
   "source": [
    "train['cheveux'].unique()"
   ]
  },
  {
   "cell_type": "code",
   "execution_count": 7,
   "id": "14c5c901",
   "metadata": {},
   "outputs": [
    {
     "data": {
      "text/plain": [
       "array(['M', 'F', nan], dtype=object)"
      ]
     },
     "execution_count": 7,
     "metadata": {},
     "output_type": "execute_result"
    }
   ],
   "source": [
    "train['sexe'].unique()"
   ]
  },
  {
   "cell_type": "code",
   "execution_count": 8,
   "id": "a069cf33",
   "metadata": {},
   "outputs": [
    {
     "data": {
      "text/plain": [
       "array([[<AxesSubplot:title={'center':'id'}>,\n",
       "        <AxesSubplot:title={'center':'age'}>],\n",
       "       [<AxesSubplot:title={'center':'exp'}>,\n",
       "        <AxesSubplot:title={'center':'salaire'}>],\n",
       "       [<AxesSubplot:title={'center':'note'}>,\n",
       "        <AxesSubplot:title={'center':'embauche'}>]], dtype=object)"
      ]
     },
     "execution_count": 8,
     "metadata": {},
     "output_type": "execute_result"
    },
    {
     "data": {
      "image/png": "[encoded data removed]",
      "text/plain": [
       "<Figure size 432x288 with 6 Axes>"
      ]
     },
     "metadata": {},
     "output_type": "display_data"
    }
   ],
   "source": [
    "train.hist()"
   ]
  },
  {
   "cell_type": "code",
   "execution_count": 9,
   "id": "7cea165e",
   "metadata": {},
   "outputs": [
    {
     "name": "stdout",
     "output_type": "stream",
     "text": [
      "id             0\n",
      "date          71\n",
      "cheveux       80\n",
      "age           68\n",
      "exp           71\n",
      "salaire       74\n",
      "sexe          80\n",
      "diplome       80\n",
      "specialite    73\n",
      "note          82\n",
      "dispo         86\n",
      "embauche       0\n",
      "dtype: int64\n",
      "==============================\n"
     ]
    },
    {
     "data": {
      "text/plain": [
       "id             0\n",
       "date          20\n",
       "cheveux       23\n",
       "age           23\n",
       "exp           25\n",
       "salaire       21\n",
       "sexe          20\n",
       "diplome       30\n",
       "specialite    20\n",
       "note          32\n",
       "dispo         20\n",
       "dtype: int64"
      ]
     },
     "execution_count": 9,
     "metadata": {},
     "output_type": "execute_result"
    }
   ],
   "source": [
    "print(train.isnull().sum())\n",
    "print(\"=\"*30)\n",
    "test.isnull().sum()"
   ]
  },
  {
   "cell_type": "code",
   "execution_count": 10,
   "id": "535c0f89",
   "metadata": {},
   "outputs": [
    {
     "name": "stderr",
     "output_type": "stream",
     "text": [
      "C:\\Users\\Varesse\\AppData\\Local\\Temp/ipykernel_16556/4043339131.py:3: DeprecationWarning: `np.bool` is a deprecated alias for the builtin `bool`. To silence this warning, use `bool` by itself. Doing this will not modify any behavior and is safe. If you specifically wanted the numpy scalar type, use `np.bool_` here.\n",
      "Deprecated in NumPy 1.20; for more details and guidance: https://numpy.org/devdocs/release/1.20.0-notes.html#deprecations\n",
      "  sns.heatmap(corr, mask=np.zeros_like(corr, dtype=np.bool),\n"
     ]
    },
    {
     "data": {
      "text/plain": [
       "<AxesSubplot:>"
      ]
     },
     "execution_count": 10,
     "metadata": {},
     "output_type": "execute_result"
    },
    {
     "data": {
      "image/png": "[encoded data removed]",
      "text/plain": [
       "<Figure size 720x576 with 2 Axes>"
      ]
     },
     "metadata": {},
     "output_type": "display_data"
    }
   ],
   "source": [
    "f, ax = plt.subplots(figsize=(10, 8))\n",
    "corr = train.corr()\n",
    "sns.heatmap(corr, mask=np.zeros_like(corr, dtype=np.bool),\n",
    "            cmap=sns.diverging_palette(220, 10, as_cmap=True),\n",
    "            square=True, ax=ax)"
   ]
  },
  {
   "cell_type": "code",
   "execution_count": 11,
   "id": "261fa9af",
   "metadata": {},
   "outputs": [
    {
     "data": {
      "text/plain": [
       "<AxesSubplot:>"
      ]
     },
     "execution_count": 11,
     "metadata": {},
     "output_type": "execute_result"
    },
    {
     "data": {
      "image/png": "[encoded data removed]",
      "text/plain": [
       "<Figure size 1800x720 with 2 Axes>"
      ]
     },
     "metadata": {},
     "output_type": "display_data"
    }
   ],
   "source": [
    "import missingno as msno  # # pip install missingno\n",
    "\n",
    "# Plot correlation heatmap of missingness\n",
    "msno.matrix(train)"
   ]
  },
  {
   "cell_type": "code",
   "execution_count": 12,
   "id": "177ad1ea",
   "metadata": {},
   "outputs": [
    {
     "data": {
      "text/plain": [
       "<AxesSubplot:>"
      ]
     },
     "execution_count": 12,
     "metadata": {},
     "output_type": "execute_result"
    },
    {
     "data": {
      "image/png": "[encoded data removed]",
      "text/plain": [
       "<Figure size 1440x864 with 2 Axes>"
      ]
     },
     "metadata": {},
     "output_type": "display_data"
    }
   ],
   "source": [
    "msno.heatmap(train)"
   ]
  },
  {
   "cell_type": "code",
   "execution_count": 14,
   "id": "13e34788",
   "metadata": {},
   "outputs": [
    {
     "data": {
      "image/png": "[encoded data removed]",
      "text/plain": [
       "<Figure size 432x288 with 1 Axes>"
      ]
     },
     "metadata": {},
     "output_type": "display_data"
    }
   ],
   "source": [
    "sns.countplot(x='embauche',data=train)\n",
    "plt.show()"
   ]
  },
  {
   "cell_type": "code",
   "execution_count": 15,
   "id": "8f92b63a",
   "metadata": {},
   "outputs": [
    {
     "data": {
      "text/html": [
       "<div>\n",
       "<style scoped>\n",
       "    .dataframe tbody tr th:only-of-type {\n",
       "        vertical-align: middle;\n",
       "    }\n",
       "\n",
       "    .dataframe tbody tr th {\n",
       "        vertical-align: top;\n",
       "    }\n",
       "\n",
       "    .dataframe thead th {\n",
       "        text-align: right;\n",
       "    }\n",
       "</style>\n",
       "<table border=\"1\" class=\"dataframe\">\n",
       "  <thead>\n",
       "    <tr style=\"text-align: right;\">\n",
       "      <th></th>\n",
       "      <th>id</th>\n",
       "      <th>age</th>\n",
       "      <th>exp</th>\n",
       "      <th>salaire</th>\n",
       "      <th>note</th>\n",
       "    </tr>\n",
       "    <tr>\n",
       "      <th>embauche</th>\n",
       "      <th></th>\n",
       "      <th></th>\n",
       "      <th></th>\n",
       "      <th></th>\n",
       "      <th></th>\n",
       "    </tr>\n",
       "  </thead>\n",
       "  <tbody>\n",
       "    <tr>\n",
       "      <th>0</th>\n",
       "      <td>7540.060312</td>\n",
       "      <td>35.048102</td>\n",
       "      <td>9.494589</td>\n",
       "      <td>34978.979641</td>\n",
       "      <td>75.202197</td>\n",
       "    </tr>\n",
       "    <tr>\n",
       "      <th>1</th>\n",
       "      <td>7186.130890</td>\n",
       "      <td>34.487135</td>\n",
       "      <td>9.590432</td>\n",
       "      <td>35013.622300</td>\n",
       "      <td>75.150598</td>\n",
       "    </tr>\n",
       "  </tbody>\n",
       "</table>\n",
       "</div>"
      ],
      "text/plain": [
       "                   id        age       exp       salaire       note\n",
       "embauche                                                           \n",
       "0         7540.060312  35.048102  9.494589  34978.979641  75.202197\n",
       "1         7186.130890  34.487135  9.590432  35013.622300  75.150598"
      ]
     },
     "execution_count": 15,
     "metadata": {},
     "output_type": "execute_result"
    }
   ],
   "source": [
    "train.groupby('embauche').mean()"
   ]
  },
  {
   "cell_type": "code",
   "execution_count": 16,
   "id": "f40f8062",
   "metadata": {},
   "outputs": [
    {
     "data": {
      "text/html": [
       "<div>\n",
       "<style scoped>\n",
       "    .dataframe tbody tr th:only-of-type {\n",
       "        vertical-align: middle;\n",
       "    }\n",
       "\n",
       "    .dataframe tbody tr th {\n",
       "        vertical-align: top;\n",
       "    }\n",
       "\n",
       "    .dataframe thead th {\n",
       "        text-align: right;\n",
       "    }\n",
       "</style>\n",
       "<table border=\"1\" class=\"dataframe\">\n",
       "  <thead>\n",
       "    <tr style=\"text-align: right;\">\n",
       "      <th></th>\n",
       "      <th>id</th>\n",
       "      <th>age</th>\n",
       "      <th>exp</th>\n",
       "      <th>salaire</th>\n",
       "      <th>note</th>\n",
       "      <th>embauche</th>\n",
       "    </tr>\n",
       "    <tr>\n",
       "      <th>cheveux</th>\n",
       "      <th></th>\n",
       "      <th></th>\n",
       "      <th></th>\n",
       "      <th></th>\n",
       "      <th></th>\n",
       "      <th></th>\n",
       "    </tr>\n",
       "  </thead>\n",
       "  <tbody>\n",
       "    <tr>\n",
       "      <th>blond</th>\n",
       "      <td>7416.362065</td>\n",
       "      <td>34.907675</td>\n",
       "      <td>9.501578</td>\n",
       "      <td>34683.248081</td>\n",
       "      <td>74.616859</td>\n",
       "      <td>0.116274</td>\n",
       "    </tr>\n",
       "    <tr>\n",
       "      <th>brun</th>\n",
       "      <td>7451.387220</td>\n",
       "      <td>34.994371</td>\n",
       "      <td>9.475417</td>\n",
       "      <td>35016.114986</td>\n",
       "      <td>75.171373</td>\n",
       "      <td>0.117713</td>\n",
       "    </tr>\n",
       "    <tr>\n",
       "      <th>chatain</th>\n",
       "      <td>7610.594535</td>\n",
       "      <td>34.942933</td>\n",
       "      <td>9.520478</td>\n",
       "      <td>35412.229065</td>\n",
       "      <td>76.258787</td>\n",
       "      <td>0.110621</td>\n",
       "    </tr>\n",
       "    <tr>\n",
       "      <th>roux</th>\n",
       "      <td>7542.794819</td>\n",
       "      <td>35.264203</td>\n",
       "      <td>9.542720</td>\n",
       "      <td>34475.825103</td>\n",
       "      <td>73.643497</td>\n",
       "      <td>0.114519</td>\n",
       "    </tr>\n",
       "  </tbody>\n",
       "</table>\n",
       "</div>"
      ],
      "text/plain": [
       "                  id        age       exp       salaire       note  embauche\n",
       "cheveux                                                                     \n",
       "blond    7416.362065  34.907675  9.501578  34683.248081  74.616859  0.116274\n",
       "brun     7451.387220  34.994371  9.475417  35016.114986  75.171373  0.117713\n",
       "chatain  7610.594535  34.942933  9.520478  35412.229065  76.258787  0.110621\n",
       "roux     7542.794819  35.264203  9.542720  34475.825103  73.643497  0.114519"
      ]
     },
     "execution_count": 16,
     "metadata": {},
     "output_type": "execute_result"
    }
   ],
   "source": [
    "train.groupby('cheveux').mean()"
   ]
  },
  {
   "cell_type": "code",
   "execution_count": 17,
   "id": "9f62f2c5",
   "metadata": {},
   "outputs": [
    {
     "data": {
      "text/html": [
       "<div>\n",
       "<style scoped>\n",
       "    .dataframe tbody tr th:only-of-type {\n",
       "        vertical-align: middle;\n",
       "    }\n",
       "\n",
       "    .dataframe tbody tr th {\n",
       "        vertical-align: top;\n",
       "    }\n",
       "\n",
       "    .dataframe thead th {\n",
       "        text-align: right;\n",
       "    }\n",
       "</style>\n",
       "<table border=\"1\" class=\"dataframe\">\n",
       "  <thead>\n",
       "    <tr style=\"text-align: right;\">\n",
       "      <th></th>\n",
       "      <th>id</th>\n",
       "      <th>age</th>\n",
       "      <th>exp</th>\n",
       "      <th>salaire</th>\n",
       "      <th>note</th>\n",
       "      <th>embauche</th>\n",
       "    </tr>\n",
       "    <tr>\n",
       "      <th>sexe</th>\n",
       "      <th></th>\n",
       "      <th></th>\n",
       "      <th></th>\n",
       "      <th></th>\n",
       "      <th></th>\n",
       "      <th></th>\n",
       "    </tr>\n",
       "  </thead>\n",
       "  <tbody>\n",
       "    <tr>\n",
       "      <th>F</th>\n",
       "      <td>7493.803518</td>\n",
       "      <td>35.025563</td>\n",
       "      <td>9.463558</td>\n",
       "      <td>34178.535048</td>\n",
       "      <td>80.812007</td>\n",
       "      <td>0.100670</td>\n",
       "    </tr>\n",
       "    <tr>\n",
       "      <th>M</th>\n",
       "      <td>7502.643464</td>\n",
       "      <td>34.942511</td>\n",
       "      <td>9.530587</td>\n",
       "      <td>35508.337716</td>\n",
       "      <td>71.477494</td>\n",
       "      <td>0.123911</td>\n",
       "    </tr>\n",
       "  </tbody>\n",
       "</table>\n",
       "</div>"
      ],
      "text/plain": [
       "               id        age       exp       salaire       note  embauche\n",
       "sexe                                                                     \n",
       "F     7493.803518  35.025563  9.463558  34178.535048  80.812007  0.100670\n",
       "M     7502.643464  34.942511  9.530587  35508.337716  71.477494  0.123911"
      ]
     },
     "execution_count": 17,
     "metadata": {},
     "output_type": "execute_result"
    }
   ],
   "source": [
    "train.groupby('sexe').mean()"
   ]
  },
  {
   "cell_type": "code",
   "execution_count": 18,
   "id": "28f0aab7",
   "metadata": {},
   "outputs": [
    {
     "data": {
      "text/html": [
       "<div>\n",
       "<style scoped>\n",
       "    .dataframe tbody tr th:only-of-type {\n",
       "        vertical-align: middle;\n",
       "    }\n",
       "\n",
       "    .dataframe tbody tr th {\n",
       "        vertical-align: top;\n",
       "    }\n",
       "\n",
       "    .dataframe thead th {\n",
       "        text-align: right;\n",
       "    }\n",
       "</style>\n",
       "<table border=\"1\" class=\"dataframe\">\n",
       "  <thead>\n",
       "    <tr style=\"text-align: right;\">\n",
       "      <th></th>\n",
       "      <th>id</th>\n",
       "      <th>age</th>\n",
       "      <th>exp</th>\n",
       "      <th>salaire</th>\n",
       "      <th>note</th>\n",
       "      <th>embauche</th>\n",
       "    </tr>\n",
       "    <tr>\n",
       "      <th>diplome</th>\n",
       "      <th></th>\n",
       "      <th></th>\n",
       "      <th></th>\n",
       "      <th></th>\n",
       "      <th></th>\n",
       "      <th></th>\n",
       "    </tr>\n",
       "  </thead>\n",
       "  <tbody>\n",
       "    <tr>\n",
       "      <th>bac</th>\n",
       "      <td>7523.761931</td>\n",
       "      <td>34.858075</td>\n",
       "      <td>9.528322</td>\n",
       "      <td>38338.653951</td>\n",
       "      <td>59.271163</td>\n",
       "      <td>0.081887</td>\n",
       "    </tr>\n",
       "    <tr>\n",
       "      <th>doctorat</th>\n",
       "      <td>7590.483551</td>\n",
       "      <td>35.012572</td>\n",
       "      <td>9.462467</td>\n",
       "      <td>31582.939044</td>\n",
       "      <td>90.895076</td>\n",
       "      <td>0.091906</td>\n",
       "    </tr>\n",
       "    <tr>\n",
       "      <th>licence</th>\n",
       "      <td>7403.417991</td>\n",
       "      <td>35.215765</td>\n",
       "      <td>9.510797</td>\n",
       "      <td>36067.432070</td>\n",
       "      <td>70.453069</td>\n",
       "      <td>0.122832</td>\n",
       "    </tr>\n",
       "    <tr>\n",
       "      <th>master</th>\n",
       "      <td>7559.072178</td>\n",
       "      <td>34.782780</td>\n",
       "      <td>9.510452</td>\n",
       "      <td>33972.885791</td>\n",
       "      <td>79.778590</td>\n",
       "      <td>0.124089</td>\n",
       "    </tr>\n",
       "  </tbody>\n",
       "</table>\n",
       "</div>"
      ],
      "text/plain": [
       "                   id        age       exp       salaire       note  embauche\n",
       "diplome                                                                      \n",
       "bac       7523.761931  34.858075  9.528322  38338.653951  59.271163  0.081887\n",
       "doctorat  7590.483551  35.012572  9.462467  31582.939044  90.895076  0.091906\n",
       "licence   7403.417991  35.215765  9.510797  36067.432070  70.453069  0.122832\n",
       "master    7559.072178  34.782780  9.510452  33972.885791  79.778590  0.124089"
      ]
     },
     "execution_count": 18,
     "metadata": {},
     "output_type": "execute_result"
    }
   ],
   "source": [
    "train.groupby('diplome').mean()"
   ]
  },
  {
   "cell_type": "code",
   "execution_count": 19,
   "id": "c9f450b8",
   "metadata": {},
   "outputs": [
    {
     "data": {
      "text/html": [
       "<div>\n",
       "<style scoped>\n",
       "    .dataframe tbody tr th:only-of-type {\n",
       "        vertical-align: middle;\n",
       "    }\n",
       "\n",
       "    .dataframe tbody tr th {\n",
       "        vertical-align: top;\n",
       "    }\n",
       "\n",
       "    .dataframe thead th {\n",
       "        text-align: right;\n",
       "    }\n",
       "</style>\n",
       "<table border=\"1\" class=\"dataframe\">\n",
       "  <thead>\n",
       "    <tr style=\"text-align: right;\">\n",
       "      <th></th>\n",
       "      <th>id</th>\n",
       "      <th>age</th>\n",
       "      <th>exp</th>\n",
       "      <th>salaire</th>\n",
       "      <th>note</th>\n",
       "      <th>embauche</th>\n",
       "    </tr>\n",
       "    <tr>\n",
       "      <th>dispo</th>\n",
       "      <th></th>\n",
       "      <th></th>\n",
       "      <th></th>\n",
       "      <th></th>\n",
       "      <th></th>\n",
       "      <th></th>\n",
       "    </tr>\n",
       "  </thead>\n",
       "  <tbody>\n",
       "    <tr>\n",
       "      <th>non</th>\n",
       "      <td>7498.141684</td>\n",
       "      <td>35.058166</td>\n",
       "      <td>9.517226</td>\n",
       "      <td>34235.805694</td>\n",
       "      <td>70.394120</td>\n",
       "      <td>0.110199</td>\n",
       "    </tr>\n",
       "    <tr>\n",
       "      <th>oui</th>\n",
       "      <td>7495.303936</td>\n",
       "      <td>34.871328</td>\n",
       "      <td>9.487479</td>\n",
       "      <td>36096.459252</td>\n",
       "      <td>82.261231</td>\n",
       "      <td>0.120744</td>\n",
       "    </tr>\n",
       "  </tbody>\n",
       "</table>\n",
       "</div>"
      ],
      "text/plain": [
       "                id        age       exp       salaire       note  embauche\n",
       "dispo                                                                     \n",
       "non    7498.141684  35.058166  9.517226  34235.805694  70.394120  0.110199\n",
       "oui    7495.303936  34.871328  9.487479  36096.459252  82.261231  0.120744"
      ]
     },
     "execution_count": 19,
     "metadata": {},
     "output_type": "execute_result"
    }
   ],
   "source": [
    "train.groupby('dispo').mean()"
   ]
  },
  {
   "cell_type": "code",
   "execution_count": 20,
   "id": "d84e4ef9",
   "metadata": {},
   "outputs": [
    {
     "data": {
      "text/html": [
       "<div>\n",
       "<style scoped>\n",
       "    .dataframe tbody tr th:only-of-type {\n",
       "        vertical-align: middle;\n",
       "    }\n",
       "\n",
       "    .dataframe tbody tr th {\n",
       "        vertical-align: top;\n",
       "    }\n",
       "\n",
       "    .dataframe thead th {\n",
       "        text-align: right;\n",
       "    }\n",
       "</style>\n",
       "<table border=\"1\" class=\"dataframe\">\n",
       "  <thead>\n",
       "    <tr style=\"text-align: right;\">\n",
       "      <th></th>\n",
       "      <th>id</th>\n",
       "      <th>age</th>\n",
       "      <th>exp</th>\n",
       "      <th>salaire</th>\n",
       "      <th>note</th>\n",
       "      <th>embauche</th>\n",
       "    </tr>\n",
       "    <tr>\n",
       "      <th>specialite</th>\n",
       "      <th></th>\n",
       "      <th></th>\n",
       "      <th></th>\n",
       "      <th></th>\n",
       "      <th></th>\n",
       "      <th></th>\n",
       "    </tr>\n",
       "  </thead>\n",
       "  <tbody>\n",
       "    <tr>\n",
       "      <th>archeologie</th>\n",
       "      <td>7464.867052</td>\n",
       "      <td>34.493217</td>\n",
       "      <td>9.665377</td>\n",
       "      <td>36177.860895</td>\n",
       "      <td>81.402043</td>\n",
       "      <td>0.210019</td>\n",
       "    </tr>\n",
       "    <tr>\n",
       "      <th>detective</th>\n",
       "      <td>7726.037784</td>\n",
       "      <td>34.829692</td>\n",
       "      <td>9.467996</td>\n",
       "      <td>35721.945981</td>\n",
       "      <td>78.840181</td>\n",
       "      <td>0.100224</td>\n",
       "    </tr>\n",
       "    <tr>\n",
       "      <th>forage</th>\n",
       "      <td>7360.844220</td>\n",
       "      <td>35.020352</td>\n",
       "      <td>9.512923</td>\n",
       "      <td>35219.861666</td>\n",
       "      <td>75.840709</td>\n",
       "      <td>0.090770</td>\n",
       "    </tr>\n",
       "    <tr>\n",
       "      <th>geologie</th>\n",
       "      <td>7472.993738</td>\n",
       "      <td>35.103854</td>\n",
       "      <td>9.494573</td>\n",
       "      <td>34410.371030</td>\n",
       "      <td>72.551554</td>\n",
       "      <td>0.118188</td>\n",
       "    </tr>\n",
       "  </tbody>\n",
       "</table>\n",
       "</div>"
      ],
      "text/plain": [
       "                      id        age       exp       salaire       note  \\\n",
       "specialite                                                               \n",
       "archeologie  7464.867052  34.493217  9.665377  36177.860895  81.402043   \n",
       "detective    7726.037784  34.829692  9.467996  35721.945981  78.840181   \n",
       "forage       7360.844220  35.020352  9.512923  35219.861666  75.840709   \n",
       "geologie     7472.993738  35.103854  9.494573  34410.371030  72.551554   \n",
       "\n",
       "             embauche  \n",
       "specialite             \n",
       "archeologie  0.210019  \n",
       "detective    0.100224  \n",
       "forage       0.090770  \n",
       "geologie     0.118188  "
      ]
     },
     "execution_count": 20,
     "metadata": {},
     "output_type": "execute_result"
    }
   ],
   "source": [
    "train.groupby('specialite').mean()"
   ]
  },
  {
   "cell_type": "code",
   "execution_count": 23,
   "id": "d635b422",
   "metadata": {},
   "outputs": [
    {
     "data": {
      "text/plain": [
       "Text(0, 0.5, 'Frequence d embauche')"
      ]
     },
     "execution_count": 23,
     "metadata": {},
     "output_type": "execute_result"
    },
    {
     "data": {
      "image/png": "[encoded data removed]",
      "text/plain": [
       "<Figure size 432x288 with 1 Axes>"
      ]
     },
     "metadata": {
      "needs_background": "light"
     },
     "output_type": "display_data"
    }
   ],
   "source": [
    "%matplotlib inline\n",
    "pd.crosstab(train.specialite,train.embauche).plot(kind='bar')\n",
    "plt.title('Frequence d embauche par specialite')\n",
    "plt.xlabel('Job')\n",
    "plt.ylabel('Frequence d embauche')"
   ]
  },
  {
   "cell_type": "code",
   "execution_count": 24,
   "id": "c786365a",
   "metadata": {},
   "outputs": [
    {
     "data": {
      "text/plain": [
       "Text(0, 0.5, 'Frequence d embauche')"
      ]
     },
     "execution_count": 24,
     "metadata": {},
     "output_type": "execute_result"
    },
    {
     "data": {
      "image/png": "[encoded data removed]",
      "text/plain": [
       "<Figure size 432x288 with 1 Axes>"
      ]
     },
     "metadata": {
      "needs_background": "light"
     },
     "output_type": "display_data"
    }
   ],
   "source": [
    "%matplotlib inline\n",
    "pd.crosstab(train.sexe,train.embauche).plot(kind='bar')\n",
    "plt.title('Frequence d embauche par sexe')\n",
    "plt.xlabel('Job')\n",
    "plt.ylabel('Frequence d embauche')"
   ]
  },
  {
   "cell_type": "code",
   "execution_count": 25,
   "id": "266cda08",
   "metadata": {},
   "outputs": [
    {
     "data": {
      "text/plain": [
       "Text(0, 0.5, 'Frequence d embauche')"
      ]
     },
     "execution_count": 25,
     "metadata": {},
     "output_type": "execute_result"
    },
    {
     "data": {
      "image/png": "[encoded data removed]",
      "text/plain": [
       "<Figure size 432x288 with 1 Axes>"
      ]
     },
     "metadata": {
      "needs_background": "light"
     },
     "output_type": "display_data"
    }
   ],
   "source": [
    "%matplotlib inline\n",
    "pd.crosstab(train.diplome,train.embauche).plot(kind='bar')\n",
    "plt.title('Frequence d embauche par diplome')\n",
    "plt.xlabel('Job')\n",
    "plt.ylabel('Frequence d embauche')"
   ]
  },
  {
   "cell_type": "code",
   "execution_count": 26,
   "id": "6ef550ae",
   "metadata": {},
   "outputs": [
    {
     "data": {
      "text/plain": [
       "Text(0, 0.5, 'Frequence d embauche')"
      ]
     },
     "execution_count": 26,
     "metadata": {},
     "output_type": "execute_result"
    },
    {
     "data": {
      "image/png": "[encoded data removed]",
      "text/plain": [
       "<Figure size 432x288 with 1 Axes>"
      ]
     },
     "metadata": {
      "needs_background": "light"
     },
     "output_type": "display_data"
    }
   ],
   "source": [
    "%matplotlib inline\n",
    "pd.crosstab(train.cheveux,train.embauche).plot(kind='bar')\n",
    "plt.title('Frequence d embauche par cheveux')\n",
    "plt.xlabel('Job')\n",
    "plt.ylabel('Frequence d embauche')"
   ]
  },
  {
   "cell_type": "code",
   "execution_count": 40,
   "id": "0ba11f9d",
   "metadata": {},
   "outputs": [],
   "source": [
    "train.dtypes\n",
    "train['date'] = pd.to_datetime(train['date'], errors='coerce')"
   ]
  },
  {
   "cell_type": "code",
   "execution_count": 41,
   "id": "ea79961f",
   "metadata": {},
   "outputs": [
    {
     "data": {
      "text/plain": [
       "id                     int64\n",
       "date          datetime64[ns]\n",
       "cheveux               object\n",
       "age                  float64\n",
       "exp                  float64\n",
       "salaire              float64\n",
       "sexe                  object\n",
       "diplome               object\n",
       "specialite            object\n",
       "note                 float64\n",
       "dispo                 object\n",
       "embauche               int64\n",
       "dtype: object"
      ]
     },
     "execution_count": 41,
     "metadata": {},
     "output_type": "execute_result"
    }
   ],
   "source": [
    "train.dtypes"
   ]
  },
  {
   "cell_type": "code",
   "execution_count": 42,
   "id": "e1459d06",
   "metadata": {},
   "outputs": [
    {
     "data": {
      "text/plain": [
       "0   2012-12-12\n",
       "1   2011-03-16\n",
       "2   2014-10-05\n",
       "3   2014-07-23\n",
       "4   2010-02-17\n",
       "Name: date, dtype: datetime64[ns]"
      ]
     },
     "execution_count": 42,
     "metadata": {},
     "output_type": "execute_result"
    }
   ],
   "source": [
    "train['date'].head()"
   ]
  },
  {
   "cell_type": "code",
   "execution_count": 43,
   "id": "ec9e104a",
   "metadata": {},
   "outputs": [
    {
     "ename": "AttributeError",
     "evalue": "'Series' object has no attribute 'strftime'",
     "output_type": "error",
     "traceback": [
      "\u001b[1;31m---------------------------------------------------------------------------\u001b[0m",
      "\u001b[1;31mAttributeError\u001b[0m                            Traceback (most recent call last)",
      "\u001b[1;32m~\\AppData\\Local\\Temp/ipykernel_16556/1368307243.py\u001b[0m in \u001b[0;36m<module>\u001b[1;34m\u001b[0m\n\u001b[1;32m----> 1\u001b[1;33m \u001b[0mdf_unix_sec\u001b[0m \u001b[1;33m=\u001b[0m\u001b[0mint\u001b[0m\u001b[1;33m(\u001b[0m\u001b[0mtrain\u001b[0m\u001b[1;33m[\u001b[0m\u001b[1;34m'date'\u001b[0m\u001b[1;33m]\u001b[0m\u001b[1;33m.\u001b[0m\u001b[0mstrftime\u001b[0m\u001b[1;33m(\u001b[0m\u001b[1;34m'%Y%m%d'\u001b[0m\u001b[1;33m)\u001b[0m\u001b[1;33m)\u001b[0m\u001b[1;33m\u001b[0m\u001b[1;33m\u001b[0m\u001b[0m\n\u001b[0m\u001b[0;32m      2\u001b[0m \u001b[0mprint\u001b[0m\u001b[1;33m(\u001b[0m\u001b[0mdf_unix_sec\u001b[0m\u001b[1;33m)\u001b[0m\u001b[1;33m\u001b[0m\u001b[1;33m\u001b[0m\u001b[0m\n",
      "\u001b[1;32m~\\anaconda3\\lib\\site-packages\\pandas\\core\\generic.py\u001b[0m in \u001b[0;36m__getattr__\u001b[1;34m(self, name)\u001b[0m\n\u001b[0;32m   5485\u001b[0m         ):\n\u001b[0;32m   5486\u001b[0m             \u001b[1;32mreturn\u001b[0m \u001b[0mself\u001b[0m\u001b[1;33m[\u001b[0m\u001b[0mname\u001b[0m\u001b[1;33m]\u001b[0m\u001b[1;33m\u001b[0m\u001b[1;33m\u001b[0m\u001b[0m\n\u001b[1;32m-> 5487\u001b[1;33m         \u001b[1;32mreturn\u001b[0m \u001b[0mobject\u001b[0m\u001b[1;33m.\u001b[0m\u001b[0m__getattribute__\u001b[0m\u001b[1;33m(\u001b[0m\u001b[0mself\u001b[0m\u001b[1;33m,\u001b[0m \u001b[0mname\u001b[0m\u001b[1;33m)\u001b[0m\u001b[1;33m\u001b[0m\u001b[1;33m\u001b[0m\u001b[0m\n\u001b[0m\u001b[0;32m   5488\u001b[0m \u001b[1;33m\u001b[0m\u001b[0m\n\u001b[0;32m   5489\u001b[0m     \u001b[1;32mdef\u001b[0m \u001b[0m__setattr__\u001b[0m\u001b[1;33m(\u001b[0m\u001b[0mself\u001b[0m\u001b[1;33m,\u001b[0m \u001b[0mname\u001b[0m\u001b[1;33m:\u001b[0m \u001b[0mstr\u001b[0m\u001b[1;33m,\u001b[0m \u001b[0mvalue\u001b[0m\u001b[1;33m)\u001b[0m \u001b[1;33m->\u001b[0m \u001b[1;32mNone\u001b[0m\u001b[1;33m:\u001b[0m\u001b[1;33m\u001b[0m\u001b[1;33m\u001b[0m\u001b[0m\n",
      "\u001b[1;31mAttributeError\u001b[0m: 'Series' object has no attribute 'strftime'"
     ]
    }
   ],
   "source": [
    "df_unix_sec =int(train['date'].strftime('%Y%m%d'))\n",
    "print(df_unix_sec)"
   ]
  },
  {
   "cell_type": "code",
   "execution_count": null,
   "id": "b2e696f5",
   "metadata": {},
   "outputs": [],
   "source": []
  }
 ],
 "metadata": {
  "kernelspec": {
   "display_name": "Python 3 (ipykernel)",
   "language": "python",
   "name": "python3"
  },
  "language_info": {
   "codemirror_mode": {
    "name": "ipython",
    "version": 3
   },
   "file_extension": ".py",
   "mimetype": "text/x-python",
   "name": "python",
   "nbconvert_exporter": "python",
   "pygments_lexer": "ipython3",
   "version": "3.9.7"
  }
 },
 "nbformat": 4,
 "nbformat_minor": 5
}
